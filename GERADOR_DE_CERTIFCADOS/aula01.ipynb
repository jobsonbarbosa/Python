{
 "cells": [
  {
   "cell_type": "markdown",
   "metadata": {},
   "source": [
    "Jornada Python da Simplifica\n"
   ]
  },
  {
   "cell_type": "markdown",
   "metadata": {},
   "source": [
    "#### Lógica do Programa\n",
    "\n",
    "* Instalar as bibliotecas para o projeto\n",
    "* Ler o arquivo dos alunos e trazer para o Python\n",
    "* Configurar a geração dos certificados\n",
    "* Gerar os certificados"
   ]
  },
  {
   "cell_type": "code",
   "execution_count": null,
   "metadata": {},
   "outputs": [],
   "source": [
    "!pip install fpdf\n",
    "!pip install pandas"
   ]
  },
  {
   "cell_type": "markdown",
   "metadata": {},
   "source": [
    "* Usar as bibliotecas"
   ]
  },
  {
   "cell_type": "code",
   "execution_count": 8,
   "metadata": {},
   "outputs": [],
   "source": [
    "import pandas as pd\n",
    "from fpdf import FPDF\n"
   ]
  },
  {
   "cell_type": "markdown",
   "metadata": {},
   "source": [
    "* Ler os dados do arquivo"
   ]
  },
  {
   "cell_type": "code",
   "execution_count": 21,
   "metadata": {},
   "outputs": [
    {
     "data": {
      "text/plain": [
       "0    Alexandre Sauer Pais Lemes\n",
       "1    Frederico Sauer Pais Lemes\n",
       "2    Andreia de Araujo da Silva\n",
       "3    Rafael Alcantara de Paivas\n",
       "4                  Heliana Mara\n",
       "5     Carolina de Jesus Barbosa\n",
       "6          Jobson Silva Barbosa\n",
       "Name: nomecompleto, dtype: object"
      ]
     },
     "execution_count": 21,
     "metadata": {},
     "output_type": "execute_result"
    }
   ],
   "source": [
    "dados = pd.read_csv(\"dados.csv\")\n",
    "dados[\"nomecompleto\"]"
   ]
  },
  {
   "cell_type": "markdown",
   "metadata": {},
   "source": [
    "* Configurar os textos a serem exibidos no Certificado"
   ]
  },
  {
   "cell_type": "code",
   "execution_count": 22,
   "metadata": {},
   "outputs": [],
   "source": [
    "titulo = \"CERTIFICADO DE PARTICIPAÇÃO\"\n",
    "subtitulo = \"Este certificado comprova que\"\n",
    "texto2 = \"concluiu com êxito o curso de PYTHON ministrado por\"\n",
    "texto3 = \"PROF. SAUER entre 23/08/2024 e 28/08/2024\"\n",
    "texto4 = \"com carga horária de aproximadamente 08 horas.\""
   ]
  },
  {
   "cell_type": "markdown",
   "metadata": {},
   "source": [
    "* Geração do Cerificado"
   ]
  },
  {
   "cell_type": "code",
   "execution_count": 36,
   "metadata": {},
   "outputs": [],
   "source": [
    "for nome in dados[\"nomecompleto\"]:\n",
    "    pdf = FPDF()\n",
    "    pdf.add_page()\n",
    "    pdf.set_font(\"Arial\", 'B', size = 15)\n",
    "    pdf.image(\"template.png\")\n",
    "    pdf.set_text_color(33, 24, 136)\n",
    "    pdf.text(68, 95, titulo)\n",
    "    pdf.text(70, 120, subtitulo)\n",
    "    pdf.text(73, 145, nome)\n",
    "    pdf.text(37, 165, texto2)\n",
    "    pdf.text(53, 175, texto3)\n",
    "    pdf.text(53, 185, texto4)\n",
    "    pdf.output(f\"Certificado_{nome}.pdf\", \"F\")"
   ]
  }
 ],
 "metadata": {
  "kernelspec": {
   "display_name": "Python 3",
   "language": "python",
   "name": "python3"
  },
  "language_info": {
   "codemirror_mode": {
    "name": "ipython",
    "version": 3
   },
   "file_extension": ".py",
   "mimetype": "text/x-python",
   "name": "python",
   "nbconvert_exporter": "python",
   "pygments_lexer": "ipython3",
   "version": "3.12.5"
  }
 },
 "nbformat": 4,
 "nbformat_minor": 2
}
